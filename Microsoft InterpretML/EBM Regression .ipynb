{
 "cells": [
  {
   "cell_type": "code",
   "execution_count": 1,
   "metadata": {},
   "outputs": [],
   "source": [
    "import pandas as pd\n",
    "from sklearn.datasets import load_boston\n",
    "from sklearn.model_selection import train_test_split\n",
    "\n",
    "boston = load_boston()\n",
    "feature_names = list(boston.feature_names)\n",
    "X, y = pd.DataFrame(boston.data, columns=feature_names), boston.target\n",
    "\n",
    "seed = 1\n",
    "X_train, X_test, y_train, y_test = train_test_split(X, y, test_size=0.20, random_state=seed)"
   ]
  },
  {
   "cell_type": "code",
   "execution_count": 2,
   "metadata": {},
   "outputs": [
    {
     "data": {
      "text/html": [
       "<!-- http://127.0.0.1:7341/4440578832/ -->\n",
       "<iframe src=\"http://127.0.0.1:7341/4440578832/\" width=100% height=800 frameBorder=\"0\"></iframe>"
      ]
     },
     "metadata": {},
     "output_type": "display_data"
    }
   ],
   "source": [
    "from interpret import show\n",
    "from interpret.data import Marginal\n",
    "\n",
    "marginal = Marginal().explain_data(X_train, y_train, name = 'Train Data')\n",
    "show(marginal)"
   ]
  },
  {
   "cell_type": "code",
   "execution_count": 3,
   "metadata": {},
   "outputs": [
    {
     "data": {
      "text/plain": [
       "ExplainableBoostingRegressor(binning_strategy='quantile', data_n_episodes=2000,\n",
       "                             early_stopping_run_length=50,\n",
       "                             early_stopping_tolerance=1e-05,\n",
       "                             feature_names=['CRIM', 'ZN', 'INDUS', 'CHAS',\n",
       "                                            'NOX', 'RM', 'AGE', 'DIS', 'RAD',\n",
       "                                            'TAX', 'PTRATIO', 'B', 'LSTAT'],\n",
       "                             feature_step_n_inner_bags=0,\n",
       "                             feature_types=['continuous', 'continuous',\n",
       "                                            'continuous', 'categorical',\n",
       "                                            'continuous', 'continuous',\n",
       "                                            'continuous', 'continuous',\n",
       "                                            'continuous', 'continuous',\n",
       "                                            'continuous', 'continuous',\n",
       "                                            'continuous'],\n",
       "                             holdout_size=0.15, holdout_split=0.15,\n",
       "                             interactions=0, learning_rate=0.01,\n",
       "                             main_attr='all', max_n_bins=255, max_tree_splits=2,\n",
       "                             min_cases_for_splits=2, n_estimators=16, n_jobs=-2,\n",
       "                             random_state=1, schema=None, scoring=None,\n",
       "                             training_step_episodes=1)"
      ]
     },
     "execution_count": 3,
     "metadata": {},
     "output_type": "execute_result"
    }
   ],
   "source": [
    "from interpret.glassbox import ExplainableBoostingRegressor, LinearRegression, RegressionTree\n",
    "\n",
    "ebm = ExplainableBoostingRegressor(random_state=seed)\n",
    "ebm.fit(X_train, y_train)   #Works on dataframes and numpy arrays"
   ]
  },
  {
   "cell_type": "code",
   "execution_count": 4,
   "metadata": {},
   "outputs": [
    {
     "data": {
      "text/html": [
       "<!-- http://127.0.0.1:7341/112152994064/ -->\n",
       "<iframe src=\"http://127.0.0.1:7341/112152994064/\" width=100% height=800 frameBorder=\"0\"></iframe>"
      ]
     },
     "metadata": {},
     "output_type": "display_data"
    }
   ],
   "source": [
    "ebm_global = ebm.explain_global(name='EBM')\n",
    "show(ebm_global)"
   ]
  },
  {
   "cell_type": "code",
   "execution_count": 5,
   "metadata": {
    "scrolled": true
   },
   "outputs": [
    {
     "data": {
      "text/html": [
       "<!-- http://127.0.0.1:7341/112152666448/ -->\n",
       "<iframe src=\"http://127.0.0.1:7341/112152666448/\" width=100% height=800 frameBorder=\"0\"></iframe>"
      ]
     },
     "metadata": {},
     "output_type": "display_data"
    }
   ],
   "source": [
    "ebm_local = ebm.explain_local(X_test[:5], y_test[:5], name='EBM')\n",
    "show(ebm_local)"
   ]
  },
  {
   "cell_type": "code",
   "execution_count": 6,
   "metadata": {},
   "outputs": [
    {
     "data": {
      "text/html": [
       "<!-- http://127.0.0.1:7341/112161537296/ -->\n",
       "<iframe src=\"http://127.0.0.1:7341/112161537296/\" width=100% height=800 frameBorder=\"0\"></iframe>"
      ]
     },
     "metadata": {},
     "output_type": "display_data"
    }
   ],
   "source": [
    "from interpret import show\n",
    "from interpret.perf import RegressionPerf\n",
    "\n",
    "ebm_perf = RegressionPerf(ebm.predict).explain_perf(X_test, y_test, name='EBM')\n",
    "show(ebm_perf)"
   ]
  },
  {
   "cell_type": "code",
   "execution_count": 7,
   "metadata": {},
   "outputs": [
    {
     "data": {
      "text/plain": [
       "<interpret.glassbox.decisiontree.RegressionTree at 0x1a1d59db90>"
      ]
     },
     "execution_count": 7,
     "metadata": {},
     "output_type": "execute_result"
    }
   ],
   "source": [
    "from interpret.glassbox import LinearRegression, RegressionTree\n",
    "\n",
    "lr = LinearRegression(random_state=seed)\n",
    "lr.fit(X_train, y_train)\n",
    "\n",
    "rt = RegressionTree(random_state=seed)\n",
    "rt.fit(X_train, y_train)"
   ]
  },
  {
   "cell_type": "code",
   "execution_count": 8,
   "metadata": {},
   "outputs": [
    {
     "data": {
      "text/html": [
       "<!-- http://127.0.0.1:7341/112153745616/ -->\n",
       "<iframe src=\"http://127.0.0.1:7341/112153745616/\" width=100% height=800 frameBorder=\"0\"></iframe>"
      ]
     },
     "metadata": {},
     "output_type": "display_data"
    },
    {
     "data": {
      "text/html": [
       "<!-- http://127.0.0.1:7341/112144864080/ -->\n",
       "<iframe src=\"http://127.0.0.1:7341/112144864080/\" width=100% height=800 frameBorder=\"0\"></iframe>"
      ]
     },
     "metadata": {},
     "output_type": "display_data"
    },
    {
     "data": {
      "text/html": [
       "<!-- http://127.0.0.1:7341/112161537296/ -->\n",
       "<iframe src=\"http://127.0.0.1:7341/112161537296/\" width=100% height=800 frameBorder=\"0\"></iframe>"
      ]
     },
     "metadata": {},
     "output_type": "display_data"
    }
   ],
   "source": [
    "lr_perf = RegressionPerf(lr.predict).explain_perf(X_test, y_test, name='Linear Regression')\n",
    "rt_perf = RegressionPerf(rt.predict).explain_perf(X_test, y_test, name='Regression Tree')\n",
    "\n",
    "show(lr_perf)\n",
    "show(rt_perf)\n",
    "show(ebm_perf)"
   ]
  },
  {
   "cell_type": "code",
   "execution_count": 9,
   "metadata": {},
   "outputs": [
    {
     "data": {
      "text/html": [
       "<!-- http://127.0.0.1:7341/112161869072/ -->\n",
       "<iframe src=\"http://127.0.0.1:7341/112161869072/\" width=100% height=800 frameBorder=\"0\"></iframe>"
      ]
     },
     "metadata": {},
     "output_type": "display_data"
    },
    {
     "data": {
      "text/html": [
       "<!-- http://127.0.0.1:7341/112161868176/ -->\n",
       "<iframe src=\"http://127.0.0.1:7341/112161868176/\" width=100% height=800 frameBorder=\"0\"></iframe>"
      ]
     },
     "metadata": {},
     "output_type": "display_data"
    },
    {
     "data": {
      "text/html": [
       "<!-- http://127.0.0.1:7341/112152994064/ -->\n",
       "<iframe src=\"http://127.0.0.1:7341/112152994064/\" width=100% height=800 frameBorder=\"0\"></iframe>"
      ]
     },
     "metadata": {},
     "output_type": "display_data"
    }
   ],
   "source": [
    "lr_global = lr.explain_global(name='Linear Regression')\n",
    "rt_global = rt.explain_global(name='Regression Tree')\n",
    "\n",
    "show(lr_global)\n",
    "show(rt_global)\n",
    "show(ebm_global)"
   ]
  },
  {
   "cell_type": "code",
   "execution_count": 10,
   "metadata": {},
   "outputs": [
    {
     "data": {
      "text/html": [
       "<!-- http://127.0.0.1:7341/112161629120/ -->\n",
       "<a href=\"http://127.0.0.1:7341/112161629120/\" target=\"_new\">Open in new window</a><iframe src=\"http://127.0.0.1:7341/112161629120/\" width=100% height=800 frameBorder=\"0\"></iframe>"
      ]
     },
     "metadata": {},
     "output_type": "display_data"
    }
   ],
   "source": [
    "show([marginal, lr_global, lr_perf, rt_global, rt_perf, ebm_global, ebm_perf])"
   ]
  },
  {
   "cell_type": "code",
   "execution_count": null,
   "metadata": {},
   "outputs": [],
   "source": []
  }
 ],
 "metadata": {
  "kernelspec": {
   "display_name": "Python 3",
   "language": "python",
   "name": "python3"
  },
  "language_info": {
   "codemirror_mode": {
    "name": "ipython",
    "version": 3
   },
   "file_extension": ".py",
   "mimetype": "text/x-python",
   "name": "python",
   "nbconvert_exporter": "python",
   "pygments_lexer": "ipython3",
   "version": "3.7.6"
  }
 },
 "nbformat": 4,
 "nbformat_minor": 4
}
